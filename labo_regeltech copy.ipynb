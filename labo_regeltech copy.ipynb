{
 "cells": [
  {
   "cell_type": "code",
   "execution_count": 22,
   "metadata": {},
   "outputs": [],
   "source": [
    "from sympy import symbols, sqrt, Derivative\n",
    "import sympy as sp\n",
    "x = symbols('x')"
   ]
  },
  {
   "cell_type": "code",
   "execution_count": 28,
   "metadata": {},
   "outputs": [
    {
     "data": {
      "text/latex": [
       "$\\displaystyle 9.0 \\cdot 10^{-9} x^{4} - 2.0 \\cdot 10^{-6} x^{3} + 0.00036 x^{2} - 0.0156 x + 0.2664$"
      ],
      "text/plain": [
       "9.0e-9*x**4 - 2.0e-6*x**3 + 0.00036*x**2 - 0.0156*x + 0.2664"
      ]
     },
     "execution_count": 28,
     "metadata": {},
     "output_type": "execute_result"
    }
   ],
   "source": [
    "w = 3E-10*x**6 - 1E-07*x**5 + 3E-05*x**4 - 0.0026*x**3 + 0.1332*x**2 - 0.883*x + 23.296\n",
    "afg2_x = sp.Derivative(w, x, x)\n",
    "afg2_x.doit()\n"
   ]
  },
  {
   "cell_type": "code",
   "execution_count": 29,
   "metadata": {},
   "outputs": [
    {
     "data": {
      "text/plain": [
       "[25.9492897249927 - 17.5336151451673*I,\n",
       " 25.9492897249927 + 17.5336151451673*I,\n",
       " 85.1618213861184 - 151.417026038298*I,\n",
       " 85.1618213861184 + 151.417026038298*I]"
      ]
     },
     "execution_count": 29,
     "metadata": {},
     "output_type": "execute_result"
    }
   ],
   "source": [
    "sp.solve(afg2_x.doit(), x)"
   ]
  },
  {
   "cell_type": "code",
   "execution_count": 25,
   "metadata": {},
   "outputs": [
    {
     "data": {
      "text/latex": [
       "$\\displaystyle 2.0123763672142$"
      ],
      "text/plain": [
       "2.01237636721420"
      ]
     },
     "execution_count": 25,
     "metadata": {},
     "output_type": "execute_result"
    }
   ],
   "source": [
    "afg_x = sp.Derivative(w,x)\n",
    "tweedeafg = afg_x.doit()\n",
    "tweedeafg\n",
    "helling = tweedeafg.subs(x, 117)\n",
    "helling\n"
   ]
  },
  {
   "cell_type": "code",
   "execution_count": 26,
   "metadata": {},
   "outputs": [
    {
     "data": {
      "text/latex": [
       "$\\displaystyle 12.338118163929$"
      ],
      "text/plain": [
       "12.3381181639290"
      ]
     },
     "execution_count": 26,
     "metadata": {},
     "output_type": "execute_result"
    }
   ],
   "source": [
    "y0 = 22.4- (helling*5)\n",
    "y0"
   ]
  },
  {
   "cell_type": "code",
   "execution_count": 27,
   "metadata": {},
   "outputs": [
    {
     "data": {
      "text/latex": [
       "$\\displaystyle 4.95030750627507$"
      ],
      "text/plain": [
       "4.95030750627507"
      ]
     },
     "execution_count": 27,
     "metadata": {},
     "output_type": "execute_result"
    }
   ],
   "source": [
    "(22.3 - y0)/helling"
   ]
  }
 ],
 "metadata": {
  "kernelspec": {
   "display_name": "base",
   "language": "python",
   "name": "python3"
  },
  "language_info": {
   "codemirror_mode": {
    "name": "ipython",
    "version": 3
   },
   "file_extension": ".py",
   "mimetype": "text/x-python",
   "name": "python",
   "nbconvert_exporter": "python",
   "pygments_lexer": "ipython3",
   "version": "3.11.7"
  }
 },
 "nbformat": 4,
 "nbformat_minor": 2
}
