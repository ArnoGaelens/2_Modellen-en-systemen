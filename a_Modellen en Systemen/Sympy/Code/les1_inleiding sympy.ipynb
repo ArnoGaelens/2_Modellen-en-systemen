{
 "cells": [
  {
   "cell_type": "markdown",
   "metadata": {},
   "source": [
    "# 1)"
   ]
  },
  {
   "cell_type": "code",
   "execution_count": 7,
   "metadata": {},
   "outputs": [],
   "source": [
    "%matplotlib notebook"
   ]
  },
  {
   "cell_type": "code",
   "execution_count": 6,
   "metadata": {},
   "outputs": [
    {
     "data": {
      "text/plain": [
       "0.8414709848078965"
      ]
     },
     "execution_count": 6,
     "metadata": {},
     "output_type": "execute_result"
    }
   ],
   "source": [
    "import numpy as np\n",
    "\n",
    "x = np.sin(1)\n",
    "x\n",
    "d\n"
   ]
  },
  {
   "cell_type": "code",
   "execution_count": 5,
   "metadata": {},
   "outputs": [
    {
     "data": {
      "text/latex": [
       "$\\displaystyle y$"
      ],
      "text/plain": [
       "y"
      ]
     },
     "execution_count": 5,
     "metadata": {},
     "output_type": "execute_result"
    }
   ],
   "source": [
    "import sympy as sp\n",
    "\n",
    "y = sp.Symbol('y')\n",
    "y"
   ]
  },
  {
   "cell_type": "code",
   "execution_count": null,
   "metadata": {},
   "outputs": [],
   "source": [
    "integraal  =sp.Integral(uitdrukking,x)\n",
    "integraal.doit()."
   ]
  },
  {
   "cell_type": "code",
   "execution_count": 11,
   "metadata": {},
   "outputs": [
    {
     "name": "stdout",
     "output_type": "stream",
     "text": [
      "sqrt(-2*x + y)\n"
     ]
    },
    {
     "data": {
      "image/png": "[encoded data removed]",
      "text/latex": [
       "$\\displaystyle - 2 x + y$"
      ],
      "text/plain": [
       "-2⋅x + y"
      ]
     },
     "execution_count": 11,
     "metadata": {},
     "output_type": "execute_result"
    }
   ],
   "source": [
    "sp.init_printing()\n",
    "x,y = sp.symbols('x y ')\n",
    "z = sp.sqrt(y-2*x)\n",
    "print(z)\n",
    "\n",
    "z**2"
   ]
  },
  {
   "cell_type": "code",
   "execution_count": 14,
   "metadata": {},
   "outputs": [
    {
     "name": "stdout",
     "output_type": "stream",
     "text": [
      "sqrt(-2*x + y)\n"
     ]
    },
    {
     "ename": "AttributeError",
     "evalue": "module 'matplotlib' has no attribute 'show'",
     "output_type": "error",
     "traceback": [
      "\u001b[1;31m---------------------------------------------------------------------------\u001b[0m",
      "\u001b[1;31mAttributeError\u001b[0m                            Traceback (most recent call last)",
      "Cell \u001b[1;32mIn[14], line 26\u001b[0m\n\u001b[0;32m     23\u001b[0m     uitkomst \u001b[38;5;241m=\u001b[39m np\u001b[38;5;241m.\u001b[39msqrt(variable)\n\u001b[0;32m     24\u001b[0m     \u001b[38;5;28;01mreturn\u001b[39;00m uitkomst\n\u001b[1;32m---> 26\u001b[0m \u001b[43mplt\u001b[49m\u001b[38;5;241;43m.\u001b[39;49m\u001b[43mshow\u001b[49m()\n",
      "File \u001b[1;32mc:\\Users\\arnog\\AppData\\Local\\Programs\\Python\\Python312\\Lib\\site-packages\\matplotlib\\_api\\__init__.py:217\u001b[0m, in \u001b[0;36mcaching_module_getattr.<locals>.__getattr__\u001b[1;34m(name)\u001b[0m\n\u001b[0;32m    215\u001b[0m \u001b[38;5;28;01mif\u001b[39;00m name \u001b[38;5;129;01min\u001b[39;00m props:\n\u001b[0;32m    216\u001b[0m     \u001b[38;5;28;01mreturn\u001b[39;00m props[name]\u001b[38;5;241m.\u001b[39m\u001b[38;5;21m__get__\u001b[39m(instance)\n\u001b[1;32m--> 217\u001b[0m \u001b[38;5;28;01mraise\u001b[39;00m \u001b[38;5;167;01mAttributeError\u001b[39;00m(\n\u001b[0;32m    218\u001b[0m     \u001b[38;5;124mf\u001b[39m\u001b[38;5;124m\"\u001b[39m\u001b[38;5;124mmodule \u001b[39m\u001b[38;5;132;01m{\u001b[39;00m\u001b[38;5;28mcls\u001b[39m\u001b[38;5;241m.\u001b[39m\u001b[38;5;18m__module__\u001b[39m\u001b[38;5;132;01m!r}\u001b[39;00m\u001b[38;5;124m has no attribute \u001b[39m\u001b[38;5;132;01m{\u001b[39;00mname\u001b[38;5;132;01m!r}\u001b[39;00m\u001b[38;5;124m\"\u001b[39m)\n",
      "\u001b[1;31mAttributeError\u001b[0m: module 'matplotlib' has no attribute 'show'"
     ]
    }
   ],
   "source": [
    "import sympy as sp\n",
    "import numpy as np\n",
    "import matplotlib as plt\n",
    "\n",
    "ondergrens = -10\n",
    "bovengrens = 10\n",
    "onderverdeling = 100\n",
    "\n",
    "x = np.linspace(0,bovengrens, onderverdeling)\n",
    "y = np.linspace(0,bovengrens, onderverdeling)\n",
    "\n",
    "\n",
    "sp.init_printing()\n",
    "x,y = sp.symbols('x y ')\n",
    "z = sp.sqrt(y-2*x)\n",
    "print(z)\n",
    "\n",
    "z**2\n",
    "\n",
    "f = lambda z: np.sqrt(z)\n",
    "\n",
    "def f_van_x(variable):\n",
    "    uitkomst = np.sqrt(variable)\n",
    "    return uitkomst\n",
    "\n",
    "plt.show()\n",
    "\n"
   ]
  },
  {
   "cell_type": "code",
   "execution_count": 17,
   "metadata": {},
   "outputs": [
    {
     "data": {
      "image/png": "[encoded data removed]",
      "text/latex": [
       "$\\displaystyle - \\frac{1}{\\sqrt{- 2 x + y}}$"
      ],
      "text/plain": [
       "    -1      \n",
       "────────────\n",
       "  __________\n",
       "╲╱ -2⋅x + y "
      ]
     },
     "execution_count": 17,
     "metadata": {},
     "output_type": "execute_result"
    }
   ],
   "source": [
    "#Afgeleide naar x: partieel afgeleide, y als cte beschouwen\n",
    "sp.init_printing()\n",
    "x,y = sp.symbols('x y ')\n",
    "z = sp.sqrt(y-2*x)\n",
    "\n",
    "z\n",
    "\n",
    "afgeleide_naar_x = sp.diff(z,x)\n",
    "afgeleide_naar_x"
   ]
  },
  {
   "cell_type": "code",
   "execution_count": 18,
   "metadata": {},
   "outputs": [
    {
     "data": {
      "image/png": "[encoded data removed]",
      "text/latex": [
       "$\\displaystyle \\frac{1}{2 \\sqrt{- 2 x + y}}$"
      ],
      "text/plain": [
       "      1       \n",
       "──────────────\n",
       "    __________\n",
       "2⋅╲╱ -2⋅x + y "
      ]
     },
     "execution_count": 18,
     "metadata": {},
     "output_type": "execute_result"
    }
   ],
   "source": [
    "#Afgeleide naar y: partieel afgeleide, x als cte beschouwen\n",
    "sp.init_printing()\n",
    "x,y = sp.symbols('x y ')\n",
    "z = sp.sqrt(y-2*x)\n",
    "\n",
    "z\n",
    "\n",
    "afgeleide_naar_y = sp.diff(z,y)\n",
    "afgeleide_naar_y"
   ]
  },
  {
   "cell_type": "code",
   "execution_count": 19,
   "metadata": {},
   "outputs": [
    {
     "data": {
      "image/png": "[encoded data removed]",
      "text/latex": [
       "$\\displaystyle \\frac{1}{2 \\left(- 2 x + y\\right)^{\\frac{3}{2}}}$"
      ],
      "text/plain": [
       "       1       \n",
       "───────────────\n",
       "            3/2\n",
       "2⋅(-2⋅x + y)   "
      ]
     },
     "execution_count": 19,
     "metadata": {},
     "output_type": "execute_result"
    }
   ],
   "source": [
    "#Afgeleide naar y en dan x\n",
    "sp.init_printing()\n",
    "x,y = sp.symbols('x y ')\n",
    "z = sp.sqrt(y-2*x)\n",
    "\n",
    "z\n",
    "\n",
    "afgeleide_naar_y_x = sp.diff(z,y, x)\n",
    "afgeleide_naar_y_x"
   ]
  },
  {
   "cell_type": "code",
   "execution_count": 21,
   "metadata": {},
   "outputs": [
    {
     "data": {
      "image/png": "[encoded data removed]",
      "text/latex": [
       "$\\displaystyle \\frac{1}{2 \\left(- 2 x + y\\right)^{\\frac{3}{2}}}$"
      ],
      "text/plain": [
       "       1       \n",
       "───────────────\n",
       "            3/2\n",
       "2⋅(-2⋅x + y)   "
      ]
     },
     "execution_count": 21,
     "metadata": {},
     "output_type": "execute_result"
    }
   ],
   "source": [
    "#Afgeleide naar x en dan y : hetzelfde\n",
    "sp.init_printing()\n",
    "x,y = sp.symbols('x y ')\n",
    "z = sp.sqrt(y-2*x)\n",
    "\n",
    "z\n",
    "\n",
    "afgeleide_naar_x_y = sp.diff(z,x,y)\n",
    "afgeleide_naar_x_y"
   ]
  }
 ],
 "metadata": {
  "kernelspec": {
   "display_name": "Python 3",
   "language": "python",
   "name": "python3"
  },
  "language_info": {
   "codemirror_mode": {
    "name": "ipython",
    "version": 3
   },
   "file_extension": ".py",
   "mimetype": "text/x-python",
   "name": "python",
   "nbconvert_exporter": "python",
   "pygments_lexer": "ipython3",
   "version": "3.12.0"
  }
 },
 "nbformat": 4,
 "nbformat_minor": 2
}
