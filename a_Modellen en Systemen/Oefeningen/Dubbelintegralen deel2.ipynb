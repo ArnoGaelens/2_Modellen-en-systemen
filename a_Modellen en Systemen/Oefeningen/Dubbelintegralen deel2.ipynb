{
 "cells": [
  {
   "cell_type": "code",
   "execution_count": 29,
   "metadata": {},
   "outputs": [],
   "source": [
    "%matplotlib widget\n",
    "from numpy import*\n",
    "import numpy as np\n",
    "from sympy import*\n",
    "import sympy as sp\n",
    "from scipy.integrate import dblquad\n",
    "from sympy.plotting import plot_implicit\n",
    "x, y, r, theta = sp.symbols('x y r theta')\n",
    "\n"
   ]
  },
  {
   "cell_type": "code",
   "execution_count": 65,
   "metadata": {},
   "outputs": [
    {
     "name": "stdout",
     "output_type": "stream",
     "text": [
      "Eq(r**2*sin(theta)**2/4 + r**2*cos(theta)**2, 1)\n",
      "[-2*sqrt(-1/(3*sin(theta)**2 - 4)), 2*sqrt(1/(4 - 3*sin(theta)**2))]\n",
      "2*sqrt(-1/(3*sin(theta)**2 - 4))\n"
     ]
    },
    {
     "data": {
      "text/latex": [
       "$\\displaystyle \\int\\limits_{0}^{2 \\sqrt{- \\frac{1}{3 \\sin^{2}{\\left(\\theta \\right)} - 4}}}\\int\\limits_{0}^{2 \\pi} r\\, d\\theta\\, dr$"
      ],
      "text/plain": [
       "Integral(r, (theta, 0, 2*pi), (r, 0, 2*sqrt(-1/(3*sin(theta)**2 - 4))))"
      ]
     },
     "execution_count": 65,
     "metadata": {},
     "output_type": "execute_result"
    }
   ],
   "source": [
    "vglelipsecarth = sp.Eq((x/1)**2+(y/2)**2,1)\n",
    "vglelipsecarth\n",
    "vglelipsepolar = vglelipsecarth.subs({x:((r*sp.cos(theta))), y:((r*sp.sin(theta)))})\n",
    "print(vglelipsepolar)\n",
    "\n",
    "grenzen = sp.solve(vglelipsepolar,r)\n",
    "print(grenzen)\n",
    "\n",
    "grenzen2 = simplify(grenzen[1])\n",
    "print(grenzen2)\n",
    "\n",
    "integrand = 1*r\n",
    "\n",
    "# Extract lower and upper limits for r\n",
    "r_lower = 0  # Lower limit for r is always 0\n",
    "r_upper = (2*sqrt(-1/(3*sin(theta)**2 - 4)))\n",
    "\n",
    "\n",
    "# Define the limits for theta\n",
    "theta_lower = 0\n",
    "theta_upper = 2 * sp.pi\n",
    "\n",
    "\n",
    "integraal1 = sp.Integral(integrand,(theta, theta_lower, theta_upper))\n",
    "integraal1\n",
    "integraaltot = sp.Integral(integraal1,(r, r_lower, r_upper))\n",
    "integraaltot\n",
    "\n",
    "\n",
    "\n",
    "\n"
   ]
  },
  {
   "cell_type": "code",
   "execution_count": 66,
   "metadata": {},
   "outputs": [
    {
     "data": {
      "text/latex": [
       "$\\displaystyle - \\frac{4 \\pi}{3 \\sin^{2}{\\left(\\theta \\right)} - 4}$"
      ],
      "text/plain": [
       "-4*pi/(3*sin(theta)**2 - 4)"
      ]
     },
     "execution_count": 66,
     "metadata": {},
     "output_type": "execute_result"
    }
   ],
   "source": [
    "integraaltot.doit()"
   ]
  }
 ],
 "metadata": {
  "kernelspec": {
   "display_name": "base",
   "language": "python",
   "name": "python3"
  },
  "language_info": {
   "codemirror_mode": {
    "name": "ipython",
    "version": 3
   },
   "file_extension": ".py",
   "mimetype": "text/x-python",
   "name": "python",
   "nbconvert_exporter": "python",
   "pygments_lexer": "ipython3",
   "version": "3.11.7"
  }
 },
 "nbformat": 4,
 "nbformat_minor": 2
}
