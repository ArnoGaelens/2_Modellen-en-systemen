{
 "cells": [
  {
   "cell_type": "code",
   "execution_count": 1,
   "id": "d11073c2",
   "metadata": {},
   "outputs": [
    {
     "data": {
      "text/plain": [
       "[{l: -2/3, m: 1/3, x: -2, y: -2, z: 4},\n",
       " {l: 1, m: -1/2, x: 1/2 - 3*sqrt(5)/2, y: 1/2 + 3*sqrt(5)/2, z: -1},\n",
       " {l: 1, m: -1/2, x: 1/2 + 3*sqrt(5)/2, y: 1/2 - 3*sqrt(5)/2, z: -1},\n",
       " {l: 2, m: 0, x: 2, y: 2, z: -4}]"
      ]
     },
     "execution_count": 1,
     "metadata": {},
     "output_type": "execute_result"
    }
   ],
   "source": [
    "import sympy as sp\n",
    "\n",
    "x=sp.Symbol('x')\n",
    "y=sp.Symbol('y')\n",
    "z=sp.Symbol('z')\n",
    "l=sp.Symbol('l')\n",
    "m=sp.Symbol('m')\n",
    "\n",
    "vgl1 = y-l-2*m*x\n",
    "vgl2 = x-l-2*m*y\n",
    "vgl3 = 2-l-2*m*z\n",
    "vgl4 = x+y+z\n",
    "vgl5 = x**2 + y**2 + z**2 -24\n",
    "\n",
    "sp.solve((vgl1,vgl2,vgl3,vgl4,vgl5))\n"
   ]
  },
  {
   "cell_type": "code",
   "execution_count": 2,
   "id": "63d7c606",
   "metadata": {},
   "outputs": [
    {
     "data": {
      "text/latex": [
       "$\\displaystyle 12$"
      ],
      "text/plain": [
       "12"
      ]
     },
     "execution_count": 2,
     "metadata": {},
     "output_type": "execute_result"
    }
   ],
   "source": [
    "f = x*y+2*z\n",
    "f1 = f.subs({x:-2,y:-2,z:4})\n",
    "f1\n"
   ]
  },
  {
   "cell_type": "code",
   "execution_count": 3,
   "id": "ee2c6e08",
   "metadata": {},
   "outputs": [
    {
     "data": {
      "text/latex": [
       "$\\displaystyle \\left(0.5 - \\frac{3 \\sqrt{5}}{2}\\right) \\left(0.5 + \\frac{3 \\sqrt{5}}{2}\\right) - 2$"
      ],
      "text/plain": [
       "(0.5 - 3*sqrt(5)/2)*(0.5 + 3*sqrt(5)/2) - 2"
      ]
     },
     "execution_count": 3,
     "metadata": {},
     "output_type": "execute_result"
    }
   ],
   "source": [
    "from sympy import sqrt\n",
    "\n",
    "f2 = f.subs({x: 1/2 - 3*sqrt(5)/2, y: 1/2 + 3*sqrt(5)/2, z: -1})\n",
    "f2"
   ]
  },
  {
   "cell_type": "code",
   "execution_count": 4,
   "id": "4f8874e0",
   "metadata": {},
   "outputs": [
    {
     "data": {
      "text/latex": [
       "$\\displaystyle -13.0$"
      ],
      "text/plain": [
       "-13.0000000000000"
      ]
     },
     "execution_count": 4,
     "metadata": {},
     "output_type": "execute_result"
    }
   ],
   "source": [
    "import numpy as np\n",
    "f2 = f.subs({x: 1/2 - 3*np.sqrt(5)/2, y: 1/2 + 3*np.sqrt(5)/2, z: -1})\n",
    "f2"
   ]
  },
  {
   "cell_type": "code",
   "execution_count": 5,
   "id": "dc19488f",
   "metadata": {},
   "outputs": [
    {
     "data": {
      "text/latex": [
       "$\\displaystyle -13.0$"
      ],
      "text/plain": [
       "-13.0000000000000"
      ]
     },
     "execution_count": 5,
     "metadata": {},
     "output_type": "execute_result"
    }
   ],
   "source": [
    "f3 = f.subs({x: 1/2 + 3*np.sqrt(5)/2, y: 1/2 - 3*np.sqrt(5)/2, z: -1})\n",
    "f3"
   ]
  },
  {
   "cell_type": "code",
   "execution_count": 6,
   "id": "10926c31",
   "metadata": {},
   "outputs": [
    {
     "data": {
      "text/latex": [
       "$\\displaystyle -4$"
      ],
      "text/plain": [
       "-4"
      ]
     },
     "execution_count": 6,
     "metadata": {},
     "output_type": "execute_result"
    }
   ],
   "source": [
    "f4 = f.subs({x: 2, y: 2, z: -4})\n",
    "f4"
   ]
  },
  {
   "cell_type": "markdown",
   "id": "ef56a606",
   "metadata": {},
   "source": [
    "De eerste oplossing en de tweede en derde oplossing komen overeen met een gebonden extremum.\n",
    "Gebonden maximum f(x,y,z)=12 voor x=-2, y=-2,z=4\n",
    "Gebonden minimum f(x,y,z)=-13 voor $x=1/2 - 3\\sqrt(5)/2$ , $y=1/2 + 3\\sqrt(5)/2$ , $z=-1$ en $x=1/2 + 3\\sqrt(5)/2$ , $y=1/2 - 3\\sqrt(5)/2$, $z=-1$"
   ]
  },
  {
   "cell_type": "code",
   "execution_count": null,
   "id": "432354b3",
   "metadata": {},
   "outputs": [],
   "source": []
  }
 ],
 "metadata": {
  "kernelspec": {
   "display_name": "Python 3 (ipykernel)",
   "language": "python",
   "name": "python3"
  },
  "language_info": {
   "codemirror_mode": {
    "name": "ipython",
    "version": 3
   },
   "file_extension": ".py",
   "mimetype": "text/x-python",
   "name": "python",
   "nbconvert_exporter": "python",
   "pygments_lexer": "ipython3",
   "version": "3.11.5"
  }
 },
 "nbformat": 4,
 "nbformat_minor": 5
}
