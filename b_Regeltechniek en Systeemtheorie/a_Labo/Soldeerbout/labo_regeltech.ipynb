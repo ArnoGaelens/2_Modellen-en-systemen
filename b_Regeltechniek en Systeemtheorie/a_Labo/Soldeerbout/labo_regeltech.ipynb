{
 "cells": [
  {
   "cell_type": "code",
   "execution_count": 52,
   "metadata": {},
   "outputs": [],
   "source": [
    "from sympy import symbols, sqrt, Derivative\n",
    "import sympy as sp\n",
    "x = symbols('x')"
   ]
  },
  {
   "cell_type": "code",
   "execution_count": 53,
   "metadata": {},
   "outputs": [
    {
     "data": {
      "text/latex": [
       "$\\displaystyle 3.0 \\cdot 10^{-13} x^{4} - 4.0 \\cdot 10^{-10} x^{3} + 2.4 \\cdot 10^{-7} x^{2} - 3.0 \\cdot 10^{-5} x + 0.0006$"
      ],
      "text/plain": [
       "3.0e-13*x**4 - 4.0e-10*x**3 + 2.4e-7*x**2 - 3.0e-5*x + 0.0006"
      ]
     },
     "execution_count": 53,
     "metadata": {},
     "output_type": "execute_result"
    }
   ],
   "source": [
    "w = 1E-14*x**6 - 2E-11*x**5 + 2E-08*x**4 - 5E-06*x**3 + 0.0003*x**2 + 0.178*x + 270.77\n",
    "afg2_x = sp.Derivative(w, x, x)\n",
    "afg2_x.doit()\n"
   ]
  },
  {
   "cell_type": "code",
   "execution_count": 54,
   "metadata": {},
   "outputs": [
    {
     "data": {
      "text/plain": [
       "[24.6737893559178,\n",
       " 132.468321651940,\n",
       " 588.095611162738 - 515.796360050375*I,\n",
       " 588.095611162738 + 515.796360050375*I]"
      ]
     },
     "execution_count": 54,
     "metadata": {},
     "output_type": "execute_result"
    }
   ],
   "source": [
    "sp.solve(afg2_x.doit(), x)"
   ]
  },
  {
   "cell_type": "code",
   "execution_count": 55,
   "metadata": {},
   "outputs": [
    {
     "data": {
      "text/latex": [
       "$\\displaystyle 0.184837524954376$"
      ],
      "text/plain": [
       "0.184837524954376"
      ]
     },
     "execution_count": 55,
     "metadata": {},
     "output_type": "execute_result"
    }
   ],
   "source": [
    "afg_x = sp.Derivative(w,x)\n",
    "tweedeafg = afg_x.doit()\n",
    "tweedeafg\n",
    "helling = tweedeafg.subs(x, 24.6737893559178)\n",
    "helling\n"
   ]
  },
  {
   "cell_type": "code",
   "execution_count": 56,
   "metadata": {},
   "outputs": [],
   "source": [
    "y0 = 274.8- (helling*25)"
   ]
  },
  {
   "cell_type": "code",
   "execution_count": 57,
   "metadata": {},
   "outputs": [
    {
     "data": {
      "text/latex": [
       "$\\displaystyle 11.4746078989259$"
      ],
      "text/plain": [
       "11.4746078989259"
      ]
     },
     "execution_count": 57,
     "metadata": {},
     "output_type": "execute_result"
    }
   ],
   "source": [
    "(272.3 - y0)/0.184837524954376"
   ]
  }
 ],
 "metadata": {
  "kernelspec": {
   "display_name": "base",
   "language": "python",
   "name": "python3"
  },
  "language_info": {
   "codemirror_mode": {
    "name": "ipython",
    "version": 3
   },
   "file_extension": ".py",
   "mimetype": "text/x-python",
   "name": "python",
   "nbconvert_exporter": "python",
   "pygments_lexer": "ipython3",
   "version": "3.11.7"
  }
 },
 "nbformat": 4,
 "nbformat_minor": 2
}
