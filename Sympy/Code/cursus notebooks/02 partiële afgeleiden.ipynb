{
 "cells": [
  {
   "cell_type": "code",
   "execution_count": 1,
   "id": "5a2e8e5d",
   "metadata": {},
   "outputs": [],
   "source": [
    "from sympy import symbols, sqrt, Derivative\n",
    "x,y = symbols('x y')"
   ]
  },
  {
   "cell_type": "code",
   "execution_count": 2,
   "id": "400fd95d",
   "metadata": {},
   "outputs": [
    {
     "data": {
      "text/latex": [
       "$\\displaystyle \\sqrt{x + y^{3}}$"
      ],
      "text/plain": [
       "sqrt(x + y**3)"
      ]
     },
     "execution_count": 2,
     "metadata": {},
     "output_type": "execute_result"
    }
   ],
   "source": [
    "z= sqrt((x+y**3))\n",
    "z"
   ]
  },
  {
   "cell_type": "code",
   "execution_count": 3,
   "id": "86935a83",
   "metadata": {},
   "outputs": [
    {
     "data": {
      "text/latex": [
       "$\\displaystyle \\frac{\\partial}{\\partial x} \\sqrt{x + y^{3}}$"
      ],
      "text/plain": [
       "Derivative(sqrt(x + y**3), x)"
      ]
     },
     "execution_count": 3,
     "metadata": {},
     "output_type": "execute_result"
    }
   ],
   "source": [
    "afg_x = Derivative(z,x)\n",
    "afg_x"
   ]
  },
  {
   "cell_type": "code",
   "execution_count": 4,
   "id": "32608e1b",
   "metadata": {},
   "outputs": [
    {
     "data": {
      "text/latex": [
       "$\\displaystyle \\frac{1}{2 \\sqrt{x + y^{3}}}$"
      ],
      "text/plain": [
       "1/(2*sqrt(x + y**3))"
      ]
     },
     "execution_count": 4,
     "metadata": {},
     "output_type": "execute_result"
    }
   ],
   "source": [
    "afg_x.doit()"
   ]
  },
  {
   "cell_type": "code",
   "execution_count": 5,
   "id": "0f532711",
   "metadata": {},
   "outputs": [
    {
     "data": {
      "text/latex": [
       "$\\displaystyle \\frac{3 y^{2}}{2 \\sqrt{x + y^{3}}}$"
      ],
      "text/plain": [
       "3*y**2/(2*sqrt(x + y**3))"
      ]
     },
     "execution_count": 5,
     "metadata": {},
     "output_type": "execute_result"
    }
   ],
   "source": [
    "Derivative(z,y).doit()"
   ]
  },
  {
   "cell_type": "code",
   "execution_count": 6,
   "id": "c34ca50c",
   "metadata": {},
   "outputs": [
    {
     "data": {
      "text/latex": [
       "$\\displaystyle \\frac{\\partial^{2}}{\\partial x^{2}} \\sqrt{x + y^{3}}$"
      ],
      "text/plain": [
       "Derivative(sqrt(x + y**3), (x, 2))"
      ]
     },
     "execution_count": 6,
     "metadata": {},
     "output_type": "execute_result"
    }
   ],
   "source": [
    "afg_x = Derivative(z,x,x)\n",
    "afg_x"
   ]
  },
  {
   "cell_type": "code",
   "execution_count": 11,
   "id": "d97687cb",
   "metadata": {
    "scrolled": true
   },
   "outputs": [
    {
     "data": {
      "text/latex": [
       "$\\displaystyle - \\frac{3 y^{2}}{4 \\left(x + y^{3}\\right)^{\\frac{3}{2}}}$"
      ],
      "text/plain": [
       "-3*y**2/(4*(x + y**3)**(3/2))"
      ]
     },
     "execution_count": 11,
     "metadata": {},
     "output_type": "execute_result"
    }
   ],
   "source": [
    "afg_x_y = Derivative(z,x,y)\n",
    "afg_x_y.doit()"
   ]
  },
  {
   "cell_type": "code",
   "execution_count": 12,
   "id": "86cbc871",
   "metadata": {},
   "outputs": [
    {
     "data": {
      "text/latex": [
       "$\\displaystyle -0.0132570060472433$"
      ],
      "text/plain": [
       "-0.0132570060472433"
      ]
     },
     "execution_count": 12,
     "metadata": {},
     "output_type": "execute_result"
    }
   ],
   "source": [
    "afg_x_y.subs({x:1,y:5}).evalf()"
   ]
  },
  {
   "cell_type": "code",
   "execution_count": 20,
   "id": "f643d162",
   "metadata": {
    "scrolled": true
   },
   "outputs": [
    {
     "data": {
      "text/latex": [
       "$\\displaystyle - \\sin{\\left(x \\right)}$"
      ],
      "text/plain": [
       "-sin(x)"
      ]
     },
     "execution_count": 20,
     "metadata": {},
     "output_type": "execute_result"
    }
   ],
   "source": [
    "from sympy import diff, cos,exp, Symbol\n",
    "diff(cos(x), x)\n"
   ]
  },
  {
   "cell_type": "code",
   "execution_count": 23,
   "id": "305a717d",
   "metadata": {},
   "outputs": [
    {
     "data": {
      "text/latex": [
       "$\\displaystyle 2 x e^{x^{2}}$"
      ],
      "text/plain": [
       "2*x*exp(x**2)"
      ]
     },
     "execution_count": 23,
     "metadata": {},
     "output_type": "execute_result"
    }
   ],
   "source": [
    "diff(exp(x**2), x)"
   ]
  },
  {
   "cell_type": "code",
   "execution_count": 24,
   "id": "d464a340",
   "metadata": {},
   "outputs": [
    {
     "data": {
      "text/latex": [
       "$\\displaystyle 24 x$"
      ],
      "text/plain": [
       "24*x"
      ]
     },
     "execution_count": 24,
     "metadata": {},
     "output_type": "execute_result"
    }
   ],
   "source": [
    "diff(x**4, x, x, x)"
   ]
  },
  {
   "cell_type": "code",
   "execution_count": 25,
   "id": "92b06ca8",
   "metadata": {},
   "outputs": [
    {
     "data": {
      "text/latex": [
       "$\\displaystyle 24 x$"
      ],
      "text/plain": [
       "24*x"
      ]
     },
     "execution_count": 25,
     "metadata": {},
     "output_type": "execute_result"
    }
   ],
   "source": [
    "diff(x**4, x, 3)"
   ]
  },
  {
   "cell_type": "code",
   "execution_count": 26,
   "id": "0c3d4e0b",
   "metadata": {
    "scrolled": true
   },
   "outputs": [
    {
     "data": {
      "text/latex": [
       "$\\displaystyle x^{3} y^{2} \\left(x^{3} y^{3} z^{3} + 14 x^{2} y^{2} z^{2} + 52 x y z + 48\\right) e^{x y z}$"
      ],
      "text/plain": [
       "x**3*y**2*(x**3*y**3*z**3 + 14*x**2*y**2*z**2 + 52*x*y*z + 48)*exp(x*y*z)"
      ]
     },
     "execution_count": 26,
     "metadata": {},
     "output_type": "execute_result"
    }
   ],
   "source": [
    "z = Symbol('z')\n",
    "F  = exp(x*y*z)\n",
    "diff(F, x, y, y, z, z, z, z)\n",
    "diff(F, x, y, 2, z, 4)\n",
    "diff(F, x, y, y, z, 4)"
   ]
  }
 ],
 "metadata": {
  "kernelspec": {
   "display_name": "Python 3 (ipykernel)",
   "language": "python",
   "name": "python3"
  },
  "language_info": {
   "codemirror_mode": {
    "name": "ipython",
    "version": 3
   },
   "file_extension": ".py",
   "mimetype": "text/x-python",
   "name": "python",
   "nbconvert_exporter": "python",
   "pygments_lexer": "ipython3",
   "version": "3.11.5"
  }
 },
 "nbformat": 4,
 "nbformat_minor": 5
}
