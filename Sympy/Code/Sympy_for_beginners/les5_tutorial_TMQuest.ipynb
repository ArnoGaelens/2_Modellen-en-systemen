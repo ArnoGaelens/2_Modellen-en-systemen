{
 "cells": [
  {
   "cell_type": "code",
   "execution_count": 2,
   "metadata": {},
   "outputs": [],
   "source": [
    "import sympy as sp\n",
    "x,y = sp.symbols('x y')"
   ]
  },
  {
   "cell_type": "code",
   "execution_count": 3,
   "metadata": {},
   "outputs": [
    {
     "data": {
      "text/latex": [
       "$\\displaystyle x^{2} + 5 x + 6$"
      ],
      "text/plain": [
       "x**2 + 5*x + 6"
      ]
     },
     "execution_count": 3,
     "metadata": {},
     "output_type": "execute_result"
    }
   ],
   "source": [
    "poly = x**2 + 5*x +6\n",
    "poly"
   ]
  },
  {
   "cell_type": "code",
   "execution_count": 4,
   "metadata": {},
   "outputs": [
    {
     "data": {
      "text/latex": [
       "$\\displaystyle \\left(x + 2\\right) \\left(x + 3\\right)$"
      ],
      "text/plain": [
       "(x + 2)*(x + 3)"
      ]
     },
     "execution_count": 4,
     "metadata": {},
     "output_type": "execute_result"
    }
   ],
   "source": [
    "poly.factor()"
   ]
  },
  {
   "cell_type": "code",
   "execution_count": 5,
   "metadata": {},
   "outputs": [
    {
     "data": {
      "text/latex": [
       "$\\displaystyle x^{2} + 5 x + 6$"
      ],
      "text/plain": [
       "x**2 + 5*x + 6"
      ]
     },
     "execution_count": 5,
     "metadata": {},
     "output_type": "execute_result"
    }
   ],
   "source": [
    "poly.expand()"
   ]
  },
  {
   "cell_type": "code",
   "execution_count": 7,
   "metadata": {},
   "outputs": [
    {
     "data": {
      "text/latex": [
       "$\\displaystyle e^{x} e^{y}$"
      ],
      "text/plain": [
       "exp(x)*exp(y)"
      ]
     },
     "execution_count": 7,
     "metadata": {},
     "output_type": "execute_result"
    }
   ],
   "source": [
    "# expand exp\n",
    "sp.exp(x+y).expand()"
   ]
  },
  {
   "cell_type": "code",
   "execution_count": 8,
   "metadata": {},
   "outputs": [
    {
     "data": {
      "text/latex": [
       "$\\displaystyle \\left(\\sin{\\left(y \\right)} + \\cos{\\left(x \\right)}\\right)^{2} - \\cos^{2}{\\left(x \\right)}$"
      ],
      "text/plain": [
       "(sin(y) + cos(x))**2 - cos(x)**2"
      ]
     },
     "execution_count": 8,
     "metadata": {},
     "output_type": "execute_result"
    }
   ],
   "source": [
    "#trig expre\n",
    "trig = (sp.cos(x)+sp.sin(y))**2 - sp.cos(x)**2\n",
    "trig"
   ]
  },
  {
   "cell_type": "code",
   "execution_count": 11,
   "metadata": {},
   "outputs": [
    {
     "data": {
      "text/latex": [
       "$\\displaystyle \\left(\\sin{\\left(y \\right)} + \\cos{\\left(x \\right)}\\right)^{2} + e^{x + y} - \\cos^{2}{\\left(x \\right)}$"
      ],
      "text/plain": [
       "(sin(y) + cos(x))**2 + exp(x + y) - cos(x)**2"
      ]
     },
     "execution_count": 11,
     "metadata": {},
     "output_type": "execute_result"
    }
   ],
   "source": [
    "# symplify certain parts of expression\n",
    "trig_and_exp = sp.exp(x+y)+(sp.cos(x)+sp.sin(y))**2 - sp.cos(x)**2\n",
    "trig_and_exp\n"
   ]
  },
  {
   "cell_type": "code",
   "execution_count": 13,
   "metadata": {},
   "outputs": [
    {
     "data": {
      "text/latex": [
       "$\\displaystyle e^{x} e^{y} + \\sin^{2}{\\left(y \\right)} + 2 \\sin{\\left(y \\right)} \\cos{\\left(x \\right)}$"
      ],
      "text/plain": [
       "exp(x)*exp(y) + sin(y)**2 + 2*sin(y)*cos(x)"
      ]
     },
     "execution_count": 13,
     "metadata": {},
     "output_type": "execute_result"
    }
   ],
   "source": [
    "# expand everything\n",
    "trig_and_exp.expand()"
   ]
  },
  {
   "cell_type": "code",
   "execution_count": 16,
   "metadata": {},
   "outputs": [
    {
     "data": {
      "text/latex": [
       "$\\displaystyle e^{x + y} + \\sin^{2}{\\left(y \\right)} + 2 \\sin{\\left(y \\right)} \\cos{\\left(x \\right)}$"
      ],
      "text/plain": [
       "exp(x + y) + sin(y)**2 + 2*sin(y)*cos(x)"
      ]
     },
     "execution_count": 16,
     "metadata": {},
     "output_type": "execute_result"
    }
   ],
   "source": [
    "# enkel trig expanden\n",
    "trig_and_exp.expand(power_exp=False)"
   ]
  },
  {
   "cell_type": "code",
   "execution_count": 18,
   "metadata": {},
   "outputs": [
    {
     "data": {
      "text/latex": [
       "$\\displaystyle \\frac{x^{3} + 10 x^{2} + 31 x + 30}{x^{2} + 12 x + 35}$"
      ],
      "text/plain": [
       "(x**3 + 10*x**2 + 31*x + 30)/(x**2 + 12*x + 35)"
      ]
     },
     "execution_count": 18,
     "metadata": {},
     "output_type": "execute_result"
    }
   ],
   "source": [
    "# cancel method\n",
    "p = x**3 +10 * x**2 +31 * x+30\n",
    "q = x**2 +12 * x+35\n",
    "fraction = p/q\n",
    "fraction"
   ]
  },
  {
   "cell_type": "code",
   "execution_count": 21,
   "metadata": {},
   "outputs": [
    {
     "data": {
      "text/latex": [
       "$\\displaystyle \\frac{x^{2} + 5 x + 6}{x + 7}$"
      ],
      "text/plain": [
       "(x**2 + 5*x + 6)/(x + 7)"
      ]
     },
     "execution_count": 21,
     "metadata": {},
     "output_type": "execute_result"
    }
   ],
   "source": [
    "#vereenvoudigen\n",
    "fraction.cancel()"
   ]
  },
  {
   "cell_type": "code",
   "execution_count": 22,
   "metadata": {},
   "outputs": [
    {
     "data": {
      "text/latex": [
       "$\\displaystyle \\frac{x^{3} + 10 x^{2} + 31 x + 30}{x^{2} + 12 x + 35}$"
      ],
      "text/plain": [
       "(x**3 + 10*x**2 + 31*x + 30)/(x**2 + 12*x + 35)"
      ]
     },
     "execution_count": 22,
     "metadata": {},
     "output_type": "execute_result"
    }
   ],
   "source": [
    "# Apart method; partieelbreuken\n",
    "p = x**3 +10 * x**2 +31 * x+30\n",
    "q = x**2 +12 * x+35\n",
    "fraction = p/q\n",
    "fraction"
   ]
  },
  {
   "cell_type": "code",
   "execution_count": 23,
   "metadata": {},
   "outputs": [
    {
     "data": {
      "text/latex": [
       "$\\displaystyle x - 2 + \\frac{20}{x + 7}$"
      ],
      "text/plain": [
       "x - 2 + 20/(x + 7)"
      ]
     },
     "execution_count": 23,
     "metadata": {},
     "output_type": "execute_result"
    }
   ],
   "source": [
    "#Partieelbreuken\n",
    "fraction.apart()"
   ]
  },
  {
   "cell_type": "code",
   "execution_count": 24,
   "metadata": {},
   "outputs": [
    {
     "data": {
      "text/latex": [
       "$\\displaystyle \\left(\\sin{\\left(y \\right)} + \\cos{\\left(x \\right)}\\right)^{2} + e^{x + y} - \\cos^{2}{\\left(x \\right)}$"
      ],
      "text/plain": [
       "(sin(y) + cos(x))**2 + exp(x + y) - cos(x)**2"
      ]
     },
     "execution_count": 24,
     "metadata": {},
     "output_type": "execute_result"
    }
   ],
   "source": [
    "#simplify method\n",
    "expr = sp.exp(x+y)+(sp.cos(x)+sp.sin(y))**2 - sp.cos(x)**2\n",
    "expr"
   ]
  },
  {
   "cell_type": "code",
   "execution_count": 26,
   "metadata": {},
   "outputs": [
    {
     "data": {
      "text/latex": [
       "$\\displaystyle \\left(\\sin{\\left(y \\right)} + \\cos{\\left(x \\right)}\\right)^{2} + e^{x + y} - \\cos^{2}{\\left(x \\right)}$"
      ],
      "text/plain": [
       "(sin(y) + cos(x))**2 + exp(x + y) - cos(x)**2"
      ]
     },
     "execution_count": 26,
     "metadata": {},
     "output_type": "execute_result"
    }
   ],
   "source": [
    "expr.simplify()"
   ]
  }
 ],
 "metadata": {
  "kernelspec": {
   "display_name": "Python 3",
   "language": "python",
   "name": "python3"
  },
  "language_info": {
   "codemirror_mode": {
    "name": "ipython",
    "version": 3
   },
   "file_extension": ".py",
   "mimetype": "text/x-python",
   "name": "python",
   "nbconvert_exporter": "python",
   "pygments_lexer": "ipython3",
   "version": "3.11.8"
  }
 },
 "nbformat": 4,
 "nbformat_minor": 2
}
